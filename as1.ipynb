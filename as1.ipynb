{
 "cells": [
  {
   "attachments": {},
   "cell_type": "markdown",
   "metadata": {},
   "source": [
    "LISTS\n"
   ]
  },
  {
   "cell_type": "code",
   "execution_count": 2,
   "metadata": {},
   "outputs": [
    {
     "name": "stdout",
     "output_type": "stream",
     "text": [
      "List of numbers \n",
      "[11, 22, 44]\n"
     ]
    }
   ],
   "source": [
    "List = [11, 22, 44]\n",
    "print(\"List of numbers \")\n",
    "print(List)\n",
    "  "
   ]
  },
  {
   "cell_type": "code",
   "execution_count": 3,
   "metadata": {},
   "outputs": [
    {
     "name": "stdout",
     "output_type": "stream",
     "text": [
      "List Items \n",
      "Sea\n",
      "Beasts\n"
     ]
    }
   ],
   "source": [
    "List = [\"Sea\", \"For\", \"Beasts\"]\n",
    "print(\"List Items \")\n",
    "print(List[0])\n",
    "print(List[2])"
   ]
  },
  {
   "cell_type": "code",
   "execution_count": 4,
   "metadata": {},
   "outputs": [
    {
     "name": "stdout",
     "output_type": "stream",
     "text": [
      "List with the use of Numbers \n",
      "[1, 2, 3, 3, 4, 4, 3, 5, 5]\n"
     ]
    }
   ],
   "source": [
    "List = [1, 2, 3, 3, 4, 4, 3, 5, 5]\n",
    "print(\"List with the use of Numbers \")\n",
    "print(List)\n",
    "  "
   ]
  },
  {
   "cell_type": "code",
   "execution_count": 5,
   "metadata": {},
   "outputs": [
    {
     "name": "stdout",
     "output_type": "stream",
     "text": [
      "List with the use of Mixed Values\n",
      "[1, 4, 'Harry', 1, 'For', 5, 'Potter']\n"
     ]
    }
   ],
   "source": [
    "List = [1, 4, 'Harry', 1, 'For', 5, 'Potter']\n",
    "print(\"List with the use of Mixed Values\")\n",
    "print(List)\n"
   ]
  },
  {
   "cell_type": "code",
   "execution_count": 6,
   "metadata": {},
   "outputs": [
    {
     "name": "stdout",
     "output_type": "stream",
     "text": [
      "4\n"
     ]
    }
   ],
   "source": [
    "List1 = [99, 88, 77, 66,]\n",
    "print(len(List1))"
   ]
  },
  {
   "cell_type": "code",
   "execution_count": 8,
   "metadata": {},
   "outputs": [
    {
     "name": "stdout",
     "output_type": "stream",
     "text": [
      "['Artificial', 'Intelligence', 5, 4, 3, 2, 1]\n"
     ]
    }
   ],
   "source": [
    "mylist = [1, 2, 3, 4, 5, 'Intelligence', 'Artificial']\n",
    "mylist.reverse()\n",
    "print(mylist)"
   ]
  }
 ],
 "metadata": {
  "kernelspec": {
   "display_name": "Python 3",
   "language": "python",
   "name": "python3"
  },
  "language_info": {
   "codemirror_mode": {
    "name": "ipython",
    "version": 3
   },
   "file_extension": ".py",
   "mimetype": "text/x-python",
   "name": "python",
   "nbconvert_exporter": "python",
   "pygments_lexer": "ipython3",
   "version": "3.10.4"
  },
  "orig_nbformat": 4
 },
 "nbformat": 4,
 "nbformat_minor": 2
}
